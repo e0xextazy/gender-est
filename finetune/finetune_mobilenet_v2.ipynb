{
 "cells": [
  {
   "cell_type": "code",
   "execution_count": 1,
   "metadata": {},
   "outputs": [
    {
     "data": {
      "text/plain": [
       "<matplotlib.pyplot._IonContext at 0x7fb018084a00>"
      ]
     },
     "execution_count": 1,
     "metadata": {},
     "output_type": "execute_result"
    }
   ],
   "source": [
    "from __future__ import print_function, division\n",
    "\n",
    "import torch\n",
    "import torch.nn as nn\n",
    "import torch.optim as optim\n",
    "from torch.optim import lr_scheduler\n",
    "import numpy as np\n",
    "import torchvision\n",
    "from torchvision import datasets, models, transforms\n",
    "import matplotlib.pyplot as plt\n",
    "import time\n",
    "import os\n",
    "import copy\n",
    "import pandas as pd\n",
    "import shutil\n",
    "import random\n",
    "\n",
    "plt.ion() "
   ]
  },
  {
   "cell_type": "code",
   "execution_count": 2,
   "metadata": {},
   "outputs": [],
   "source": [
    "os.environ['CUDA_LAUNCH_BLOCKING'] = '1'"
   ]
  },
  {
   "cell_type": "markdown",
   "metadata": {},
   "source": [
    "# Data Preparation"
   ]
  },
  {
   "cell_type": "code",
   "execution_count": 3,
   "metadata": {},
   "outputs": [],
   "source": [
    "data_dir = \"/app/var/lib/docker/volumes/parser-lm-wb_parser/_data\"\n",
    "shops = [\"lamoda\", \"wildberries\"]\n",
    "needs_columns = [\"gender\", \"item_id\"]"
   ]
  },
  {
   "cell_type": "markdown",
   "metadata": {},
   "source": [
    "### Lamoda"
   ]
  },
  {
   "cell_type": "code",
   "execution_count": 4,
   "metadata": {},
   "outputs": [
    {
     "name": "stdout",
     "output_type": "stream",
     "text": [
      "    gender       item_id\n",
      "0  женский  MP002XW05SKP\n",
      "1  женский  MP002XW0AXLG\n",
      "2  женский  IX001XW0124K\n",
      "3  женский  MP002XW088BV\n",
      "4  женский  MP002XW0995W \n",
      "\n",
      "женский    8462\n",
      "мужской    6144\n",
      "Name: gender, dtype: int64 \n",
      "\n",
      "Empty DataFrame\n",
      "Columns: [gender, item_id]\n",
      "Index: [] \n",
      "\n"
     ]
    }
   ],
   "source": [
    "df_lamoda = pd.read_csv(os.path.join(data_dir, shops[0], \"pages_info.tsv\"), sep='\\t')\n",
    "df_lamoda = df_lamoda[needs_columns] # Leave the required columns\n",
    "print(df_lamoda.head(), \"\\n\")\n",
    "print(df_lamoda.gender.value_counts(), \"\\n\") # Checking for class balance and None values for \"gender\"\n",
    "print(df_lamoda[df_lamoda.item_id.isna()], \"\\n\") # Checking None values for \"item_id\""
   ]
  },
  {
   "cell_type": "code",
   "execution_count": 5,
   "metadata": {},
   "outputs": [],
   "source": [
    "lamoda_dir = \"/app/var/lib/docker/volumes/parser-lm-wb_parser/_data/lamoda/images\"\n",
    "def set_path(row):\n",
    "    try:\n",
    "        f = open(f\"{lamoda_dir}/{row['item_id']}.jpg\", \"rb\")\n",
    "        return f\"{lamoda_dir}/{row['item_id']}.jpg\"\n",
    "    except:\n",
    "        return None"
   ]
  },
  {
   "cell_type": "code",
   "execution_count": 6,
   "metadata": {},
   "outputs": [
    {
     "name": "stdout",
     "output_type": "stream",
     "text": [
      "    gender       item_id                                               path\n",
      "0  женский  MP002XW05SKP  /app/var/lib/docker/volumes/parser-lm-wb_parse...\n",
      "1  женский  MP002XW0AXLG  /app/var/lib/docker/volumes/parser-lm-wb_parse...\n",
      "2  женский  IX001XW0124K  /app/var/lib/docker/volumes/parser-lm-wb_parse...\n",
      "3  женский  MP002XW088BV  /app/var/lib/docker/volumes/parser-lm-wb_parse...\n",
      "4  женский  MP002XW0995W  /app/var/lib/docker/volumes/parser-lm-wb_parse... \n",
      "\n",
      "Empty DataFrame\n",
      "Columns: [gender, item_id, path]\n",
      "Index: [] \n",
      "\n"
     ]
    }
   ],
   "source": [
    "df_lamoda[\"path\"] = df_lamoda.apply(set_path, axis=1)\n",
    "print(df_lamoda.head(), \"\\n\")\n",
    "print(df_lamoda[df_lamoda.path.isna()], \"\\n\") # Checking None values for \"path\""
   ]
  },
  {
   "cell_type": "code",
   "execution_count": 7,
   "metadata": {},
   "outputs": [],
   "source": [
    "df_lamoda.to_csv(\"/app/var/lib/docker/volumes/parser-lm-wb_parser/_data/lamoda/preprocessed_pages_info.csv\", index=False)"
   ]
  },
  {
   "cell_type": "markdown",
   "metadata": {},
   "source": [
    "### WB"
   ]
  },
  {
   "cell_type": "code",
   "execution_count": 8,
   "metadata": {},
   "outputs": [
    {
     "name": "stdout",
     "output_type": "stream",
     "text": [
      "        gender   item_id\n",
      "0      женский  50657246\n",
      "1      женский  47948293\n",
      "2      женский  39213396\n",
      "3      женский  10147914\n",
      "4      женский  33565132\n",
      "...        ...       ...\n",
      "16925  мужской  49926538\n",
      "16926  мужской  24774833\n",
      "16927  мужской   6260838\n",
      "16928  мужской  43735073\n",
      "16929  мужской  46099479\n",
      "\n",
      "[16928 rows x 2 columns] \n",
      "\n",
      "женский    10044\n",
      "мужской     6884\n",
      "Name: gender, dtype: int64 \n",
      "\n",
      "Empty DataFrame\n",
      "Columns: [gender, item_id]\n",
      "Index: [] \n",
      "\n"
     ]
    }
   ],
   "source": [
    "df_wb = pd.read_csv(os.path.join(data_dir, shops[1], \"pages_info.tsv\"), sep='\\t')\n",
    "df_wb = df_wb[needs_columns] # Leave the required columns\n",
    "df_wb = df_wb.drop([5032, 5031], axis=\"index\") # Drop None values\n",
    "df_wb.item_id = df_wb.item_id.astype(int) # Convert item_id dtype float to int\n",
    "print(df_wb, \"\\n\")\n",
    "print(df_wb.gender.value_counts(), \"\\n\") # Checking for class balance and None values for \"gender\"\n",
    "print(df_wb[df_wb.item_id.isna()], \"\\n\") # Checking None values for \"item_id\""
   ]
  },
  {
   "cell_type": "code",
   "execution_count": 9,
   "metadata": {},
   "outputs": [],
   "source": [
    "wb_dir = \"/app/var/lib/docker/volumes/parser-lm-wb_parser/_data/wildberries/images\"\n",
    "def set_path(row):\n",
    "    try:\n",
    "        f = open(f\"{wb_dir}/{row['item_id']}.jpg\", \"rb\")\n",
    "        return f\"{wb_dir}/{row['item_id']}.jpg\"\n",
    "    except:\n",
    "        return None"
   ]
  },
  {
   "cell_type": "code",
   "execution_count": 10,
   "metadata": {},
   "outputs": [
    {
     "name": "stdout",
     "output_type": "stream",
     "text": [
      "    gender   item_id                                               path\n",
      "0  женский  50657246  /app/var/lib/docker/volumes/parser-lm-wb_parse...\n",
      "1  женский  47948293  /app/var/lib/docker/volumes/parser-lm-wb_parse...\n",
      "2  женский  39213396  /app/var/lib/docker/volumes/parser-lm-wb_parse...\n",
      "3  женский  10147914  /app/var/lib/docker/volumes/parser-lm-wb_parse...\n",
      "4  женский  33565132  /app/var/lib/docker/volumes/parser-lm-wb_parse... \n",
      "\n",
      "Empty DataFrame\n",
      "Columns: [gender, item_id, path]\n",
      "Index: [] \n",
      "\n"
     ]
    }
   ],
   "source": [
    "df_wb[\"path\"] = df_wb.apply(set_path, axis=1)\n",
    "print(df_wb.head(), \"\\n\")\n",
    "print(df_wb[df_wb.path.isna()], \"\\n\") # Checking None values for \"path\""
   ]
  },
  {
   "cell_type": "code",
   "execution_count": 11,
   "metadata": {},
   "outputs": [],
   "source": [
    "df_wb.to_csv(\"/app/var/lib/docker/volumes/parser-lm-wb_parser/_data/wildberries/preprocessed_pages_info.csv\", index=False)"
   ]
  },
  {
   "cell_type": "markdown",
   "metadata": {},
   "source": [
    "### Concat data"
   ]
  },
  {
   "cell_type": "code",
   "execution_count": 12,
   "metadata": {},
   "outputs": [],
   "source": [
    "df = pd.concat([df_wb, df_lamoda], axis=0, ignore_index=True)\n",
    "df.to_csv(\"/app/data.csv\", index=False)"
   ]
  },
  {
   "cell_type": "markdown",
   "metadata": {},
   "source": [
    "### Set up folders"
   ]
  },
  {
   "cell_type": "code",
   "execution_count": 13,
   "metadata": {},
   "outputs": [
    {
     "data": {
      "text/plain": [
       "женский    18506\n",
       "мужской    13028\n",
       "Name: gender, dtype: int64"
      ]
     },
     "execution_count": 13,
     "metadata": {},
     "output_type": "execute_result"
    }
   ],
   "source": [
    "df.gender.value_counts()"
   ]
  },
  {
   "cell_type": "code",
   "execution_count": 14,
   "metadata": {},
   "outputs": [],
   "source": [
    "# pretrained man: 75/18/8\n",
    "#          woman: 72/22/6"
   ]
  },
  {
   "cell_type": "code",
   "execution_count": 15,
   "metadata": {},
   "outputs": [
    {
     "data": {
      "text/html": [
       "<div>\n",
       "<style scoped>\n",
       "    .dataframe tbody tr th:only-of-type {\n",
       "        vertical-align: middle;\n",
       "    }\n",
       "\n",
       "    .dataframe tbody tr th {\n",
       "        vertical-align: top;\n",
       "    }\n",
       "\n",
       "    .dataframe thead th {\n",
       "        text-align: right;\n",
       "    }\n",
       "</style>\n",
       "<table border=\"1\" class=\"dataframe\">\n",
       "  <thead>\n",
       "    <tr style=\"text-align: right;\">\n",
       "      <th></th>\n",
       "      <th>gender</th>\n",
       "      <th>item_id</th>\n",
       "      <th>path</th>\n",
       "    </tr>\n",
       "  </thead>\n",
       "  <tbody>\n",
       "    <tr>\n",
       "      <th>10044</th>\n",
       "      <td>мужской</td>\n",
       "      <td>51016215</td>\n",
       "      <td>/app/var/lib/docker/volumes/parser-lm-wb_parse...</td>\n",
       "    </tr>\n",
       "    <tr>\n",
       "      <th>10045</th>\n",
       "      <td>мужской</td>\n",
       "      <td>51583008</td>\n",
       "      <td>/app/var/lib/docker/volumes/parser-lm-wb_parse...</td>\n",
       "    </tr>\n",
       "    <tr>\n",
       "      <th>10046</th>\n",
       "      <td>мужской</td>\n",
       "      <td>16509870</td>\n",
       "      <td>/app/var/lib/docker/volumes/parser-lm-wb_parse...</td>\n",
       "    </tr>\n",
       "    <tr>\n",
       "      <th>10047</th>\n",
       "      <td>мужской</td>\n",
       "      <td>16509866</td>\n",
       "      <td>/app/var/lib/docker/volumes/parser-lm-wb_parse...</td>\n",
       "    </tr>\n",
       "    <tr>\n",
       "      <th>10048</th>\n",
       "      <td>мужской</td>\n",
       "      <td>8550041</td>\n",
       "      <td>/app/var/lib/docker/volumes/parser-lm-wb_parse...</td>\n",
       "    </tr>\n",
       "    <tr>\n",
       "      <th>...</th>\n",
       "      <td>...</td>\n",
       "      <td>...</td>\n",
       "      <td>...</td>\n",
       "    </tr>\n",
       "    <tr>\n",
       "      <th>31529</th>\n",
       "      <td>мужской</td>\n",
       "      <td>RTLAAT971501</td>\n",
       "      <td>/app/var/lib/docker/volumes/parser-lm-wb_parse...</td>\n",
       "    </tr>\n",
       "    <tr>\n",
       "      <th>31530</th>\n",
       "      <td>мужской</td>\n",
       "      <td>MP002XM1H37W</td>\n",
       "      <td>/app/var/lib/docker/volumes/parser-lm-wb_parse...</td>\n",
       "    </tr>\n",
       "    <tr>\n",
       "      <th>31531</th>\n",
       "      <td>мужской</td>\n",
       "      <td>MA991EMBQZU0</td>\n",
       "      <td>/app/var/lib/docker/volumes/parser-lm-wb_parse...</td>\n",
       "    </tr>\n",
       "    <tr>\n",
       "      <th>31532</th>\n",
       "      <td>мужской</td>\n",
       "      <td>MP002XM1GZ8C</td>\n",
       "      <td>/app/var/lib/docker/volumes/parser-lm-wb_parse...</td>\n",
       "    </tr>\n",
       "    <tr>\n",
       "      <th>31533</th>\n",
       "      <td>мужской</td>\n",
       "      <td>RTLAAJ781201</td>\n",
       "      <td>/app/var/lib/docker/volumes/parser-lm-wb_parse...</td>\n",
       "    </tr>\n",
       "  </tbody>\n",
       "</table>\n",
       "<p>13028 rows × 3 columns</p>\n",
       "</div>"
      ],
      "text/plain": [
       "        gender       item_id  \\\n",
       "10044  мужской      51016215   \n",
       "10045  мужской      51583008   \n",
       "10046  мужской      16509870   \n",
       "10047  мужской      16509866   \n",
       "10048  мужской       8550041   \n",
       "...        ...           ...   \n",
       "31529  мужской  RTLAAT971501   \n",
       "31530  мужской  MP002XM1H37W   \n",
       "31531  мужской  MA991EMBQZU0   \n",
       "31532  мужской  MP002XM1GZ8C   \n",
       "31533  мужской  RTLAAJ781201   \n",
       "\n",
       "                                                    path  \n",
       "10044  /app/var/lib/docker/volumes/parser-lm-wb_parse...  \n",
       "10045  /app/var/lib/docker/volumes/parser-lm-wb_parse...  \n",
       "10046  /app/var/lib/docker/volumes/parser-lm-wb_parse...  \n",
       "10047  /app/var/lib/docker/volumes/parser-lm-wb_parse...  \n",
       "10048  /app/var/lib/docker/volumes/parser-lm-wb_parse...  \n",
       "...                                                  ...  \n",
       "31529  /app/var/lib/docker/volumes/parser-lm-wb_parse...  \n",
       "31530  /app/var/lib/docker/volumes/parser-lm-wb_parse...  \n",
       "31531  /app/var/lib/docker/volumes/parser-lm-wb_parse...  \n",
       "31532  /app/var/lib/docker/volumes/parser-lm-wb_parse...  \n",
       "31533  /app/var/lib/docker/volumes/parser-lm-wb_parse...  \n",
       "\n",
       "[13028 rows x 3 columns]"
      ]
     },
     "execution_count": 15,
     "metadata": {},
     "output_type": "execute_result"
    }
   ],
   "source": [
    "df_man = df[df.gender == \"мужской\"]\n",
    "df_man"
   ]
  },
  {
   "cell_type": "code",
   "execution_count": 16,
   "metadata": {},
   "outputs": [
    {
     "data": {
      "text/html": [
       "<div>\n",
       "<style scoped>\n",
       "    .dataframe tbody tr th:only-of-type {\n",
       "        vertical-align: middle;\n",
       "    }\n",
       "\n",
       "    .dataframe tbody tr th {\n",
       "        vertical-align: top;\n",
       "    }\n",
       "\n",
       "    .dataframe thead th {\n",
       "        text-align: right;\n",
       "    }\n",
       "</style>\n",
       "<table border=\"1\" class=\"dataframe\">\n",
       "  <thead>\n",
       "    <tr style=\"text-align: right;\">\n",
       "      <th></th>\n",
       "      <th>gender</th>\n",
       "      <th>item_id</th>\n",
       "      <th>path</th>\n",
       "    </tr>\n",
       "  </thead>\n",
       "  <tbody>\n",
       "    <tr>\n",
       "      <th>0</th>\n",
       "      <td>женский</td>\n",
       "      <td>50657246</td>\n",
       "      <td>/app/var/lib/docker/volumes/parser-lm-wb_parse...</td>\n",
       "    </tr>\n",
       "    <tr>\n",
       "      <th>1</th>\n",
       "      <td>женский</td>\n",
       "      <td>47948293</td>\n",
       "      <td>/app/var/lib/docker/volumes/parser-lm-wb_parse...</td>\n",
       "    </tr>\n",
       "    <tr>\n",
       "      <th>2</th>\n",
       "      <td>женский</td>\n",
       "      <td>39213396</td>\n",
       "      <td>/app/var/lib/docker/volumes/parser-lm-wb_parse...</td>\n",
       "    </tr>\n",
       "    <tr>\n",
       "      <th>3</th>\n",
       "      <td>женский</td>\n",
       "      <td>10147914</td>\n",
       "      <td>/app/var/lib/docker/volumes/parser-lm-wb_parse...</td>\n",
       "    </tr>\n",
       "    <tr>\n",
       "      <th>4</th>\n",
       "      <td>женский</td>\n",
       "      <td>33565132</td>\n",
       "      <td>/app/var/lib/docker/volumes/parser-lm-wb_parse...</td>\n",
       "    </tr>\n",
       "    <tr>\n",
       "      <th>...</th>\n",
       "      <td>...</td>\n",
       "      <td>...</td>\n",
       "      <td>...</td>\n",
       "    </tr>\n",
       "    <tr>\n",
       "      <th>25385</th>\n",
       "      <td>женский</td>\n",
       "      <td>MP002XW07U11</td>\n",
       "      <td>/app/var/lib/docker/volumes/parser-lm-wb_parse...</td>\n",
       "    </tr>\n",
       "    <tr>\n",
       "      <th>25386</th>\n",
       "      <td>женский</td>\n",
       "      <td>IX001XW01428</td>\n",
       "      <td>/app/var/lib/docker/volumes/parser-lm-wb_parse...</td>\n",
       "    </tr>\n",
       "    <tr>\n",
       "      <th>25387</th>\n",
       "      <td>женский</td>\n",
       "      <td>MP002XW07OLU</td>\n",
       "      <td>/app/var/lib/docker/volumes/parser-lm-wb_parse...</td>\n",
       "    </tr>\n",
       "    <tr>\n",
       "      <th>25388</th>\n",
       "      <td>женский</td>\n",
       "      <td>RTLAAZ668501</td>\n",
       "      <td>/app/var/lib/docker/volumes/parser-lm-wb_parse...</td>\n",
       "    </tr>\n",
       "    <tr>\n",
       "      <th>25389</th>\n",
       "      <td>женский</td>\n",
       "      <td>MP002XW07M40</td>\n",
       "      <td>/app/var/lib/docker/volumes/parser-lm-wb_parse...</td>\n",
       "    </tr>\n",
       "  </tbody>\n",
       "</table>\n",
       "<p>18506 rows × 3 columns</p>\n",
       "</div>"
      ],
      "text/plain": [
       "        gender       item_id  \\\n",
       "0      женский      50657246   \n",
       "1      женский      47948293   \n",
       "2      женский      39213396   \n",
       "3      женский      10147914   \n",
       "4      женский      33565132   \n",
       "...        ...           ...   \n",
       "25385  женский  MP002XW07U11   \n",
       "25386  женский  IX001XW01428   \n",
       "25387  женский  MP002XW07OLU   \n",
       "25388  женский  RTLAAZ668501   \n",
       "25389  женский  MP002XW07M40   \n",
       "\n",
       "                                                    path  \n",
       "0      /app/var/lib/docker/volumes/parser-lm-wb_parse...  \n",
       "1      /app/var/lib/docker/volumes/parser-lm-wb_parse...  \n",
       "2      /app/var/lib/docker/volumes/parser-lm-wb_parse...  \n",
       "3      /app/var/lib/docker/volumes/parser-lm-wb_parse...  \n",
       "4      /app/var/lib/docker/volumes/parser-lm-wb_parse...  \n",
       "...                                                  ...  \n",
       "25385  /app/var/lib/docker/volumes/parser-lm-wb_parse...  \n",
       "25386  /app/var/lib/docker/volumes/parser-lm-wb_parse...  \n",
       "25387  /app/var/lib/docker/volumes/parser-lm-wb_parse...  \n",
       "25388  /app/var/lib/docker/volumes/parser-lm-wb_parse...  \n",
       "25389  /app/var/lib/docker/volumes/parser-lm-wb_parse...  \n",
       "\n",
       "[18506 rows x 3 columns]"
      ]
     },
     "execution_count": 16,
     "metadata": {},
     "output_type": "execute_result"
    }
   ],
   "source": [
    "df_woman = df[df.gender == \"женский\"]\n",
    "df_woman"
   ]
  },
  {
   "cell_type": "code",
   "execution_count": 17,
   "metadata": {},
   "outputs": [],
   "source": [
    "woman_list = df_woman.path.tolist()\n",
    "man_list = df_man.path.tolist()"
   ]
  },
  {
   "cell_type": "code",
   "execution_count": 18,
   "metadata": {},
   "outputs": [],
   "source": [
    "random.shuffle(woman_list)\n",
    "random.shuffle(man_list)"
   ]
  },
  {
   "cell_type": "code",
   "execution_count": 19,
   "metadata": {},
   "outputs": [],
   "source": [
    "# split 75/15/10\n",
    "train_woman_list = woman_list[:13880]\n",
    "valid_woman_list = woman_list[13880:16656]\n",
    "test_woman_list = woman_list[16656:]\n",
    "\n",
    "train_man_list = man_list[:9771]\n",
    "valid_man_list = man_list[9771:11725]\n",
    "test_man_list = man_list[11725:]"
   ]
  },
  {
   "cell_type": "code",
   "execution_count": null,
   "metadata": {},
   "outputs": [],
   "source": [
    "for f in train_woman_list:\n",
    "    shutil.copyfile(f, f\"/app/data/train/woman/{f.split('/')[-1]}\")\n",
    "for f in valid_woman_list:\n",
    "    shutil.copyfile(f, f\"/app/data/valid/woman/{f.split('/')[-1]}\")\n",
    "for f in test_woman_list:\n",
    "    shutil.copyfile(f, f\"/app/data/test/woman/{f.split('/')[-1]}\")\n",
    "    \n",
    "for f in train_man_list:\n",
    "    shutil.copyfile(f, f\"/app/data/train/man/{f.split('/')[-1]}\")\n",
    "for f in valid_man_list:\n",
    "    shutil.copyfile(f, f\"/app/data/valid/man/{f.split('/')[-1]}\")\n",
    "for f in test_man_list:\n",
    "    shutil.copyfile(f, f\"/app/data/test/man/{f.split('/')[-1]}\")"
   ]
  },
  {
   "cell_type": "markdown",
   "metadata": {},
   "source": [
    "### Celeb dataset"
   ]
  },
  {
   "cell_type": "code",
   "execution_count": 20,
   "metadata": {},
   "outputs": [
    {
     "data": {
      "text/html": [
       "<div>\n",
       "<style scoped>\n",
       "    .dataframe tbody tr th:only-of-type {\n",
       "        vertical-align: middle;\n",
       "    }\n",
       "\n",
       "    .dataframe tbody tr th {\n",
       "        vertical-align: top;\n",
       "    }\n",
       "\n",
       "    .dataframe thead th {\n",
       "        text-align: right;\n",
       "    }\n",
       "</style>\n",
       "<table border=\"1\" class=\"dataframe\">\n",
       "  <thead>\n",
       "    <tr style=\"text-align: right;\">\n",
       "      <th></th>\n",
       "      <th>0</th>\n",
       "      <th>1</th>\n",
       "      <th>2</th>\n",
       "    </tr>\n",
       "  </thead>\n",
       "  <tbody>\n",
       "    <tr>\n",
       "      <th>0</th>\n",
       "      <td>Григорий Лепс</td>\n",
       "      <td>мужской</td>\n",
       "      <td>/opt/celebs/static/celebs/Григорий Лепс/bc29c9...</td>\n",
       "    </tr>\n",
       "    <tr>\n",
       "      <th>1</th>\n",
       "      <td>Данила Козловский</td>\n",
       "      <td>мужской</td>\n",
       "      <td>/opt/celebs/static/celebs/Данила Козловский/60...</td>\n",
       "    </tr>\n",
       "    <tr>\n",
       "      <th>2</th>\n",
       "      <td>Павел Воля</td>\n",
       "      <td>мужской</td>\n",
       "      <td>/opt/celebs/static/celebs/Павел Воля/60319c9fc...</td>\n",
       "    </tr>\n",
       "    <tr>\n",
       "      <th>3</th>\n",
       "      <td>Павел Деревянко</td>\n",
       "      <td>мужской</td>\n",
       "      <td>/opt/celebs/static/celebs/Павел Деревянко/1e46...</td>\n",
       "    </tr>\n",
       "    <tr>\n",
       "      <th>4</th>\n",
       "      <td>Александр Паль</td>\n",
       "      <td>мужской</td>\n",
       "      <td>/opt/celebs/static/celebs/Александр Паль/2924f...</td>\n",
       "    </tr>\n",
       "    <tr>\n",
       "      <th>...</th>\n",
       "      <td>...</td>\n",
       "      <td>...</td>\n",
       "      <td>...</td>\n",
       "    </tr>\n",
       "    <tr>\n",
       "      <th>995</th>\n",
       "      <td>Павел Воля</td>\n",
       "      <td>мужской</td>\n",
       "      <td>/opt/celebs/static/celebs/Павел Воля/150e9584e...</td>\n",
       "    </tr>\n",
       "    <tr>\n",
       "      <th>996</th>\n",
       "      <td>Баста</td>\n",
       "      <td>мужской</td>\n",
       "      <td>/opt/celebs/static/celebs/Баста/8f21c52249004b...</td>\n",
       "    </tr>\n",
       "    <tr>\n",
       "      <th>997</th>\n",
       "      <td>Семен Слепаков</td>\n",
       "      <td>мужской</td>\n",
       "      <td>/opt/celebs/static/celebs/Семен Слепаков/3e7b8...</td>\n",
       "    </tr>\n",
       "    <tr>\n",
       "      <th>998</th>\n",
       "      <td>Иван Ургант</td>\n",
       "      <td>мужской</td>\n",
       "      <td>/opt/celebs/static/celebs/Иван Ургант/0a1c935f...</td>\n",
       "    </tr>\n",
       "    <tr>\n",
       "      <th>999</th>\n",
       "      <td>Джиган</td>\n",
       "      <td>мужской</td>\n",
       "      <td>/opt/celebs/static/celebs/Джиган/8e9f865f85c04...</td>\n",
       "    </tr>\n",
       "  </tbody>\n",
       "</table>\n",
       "<p>1000 rows × 3 columns</p>\n",
       "</div>"
      ],
      "text/plain": [
       "                     0        1  \\\n",
       "0        Григорий Лепс  мужской   \n",
       "1    Данила Козловский  мужской   \n",
       "2           Павел Воля  мужской   \n",
       "3      Павел Деревянко  мужской   \n",
       "4       Александр Паль  мужской   \n",
       "..                 ...      ...   \n",
       "995         Павел Воля  мужской   \n",
       "996              Баста  мужской   \n",
       "997     Семен Слепаков  мужской   \n",
       "998        Иван Ургант  мужской   \n",
       "999             Джиган  мужской   \n",
       "\n",
       "                                                     2  \n",
       "0    /opt/celebs/static/celebs/Григорий Лепс/bc29c9...  \n",
       "1    /opt/celebs/static/celebs/Данила Козловский/60...  \n",
       "2    /opt/celebs/static/celebs/Павел Воля/60319c9fc...  \n",
       "3    /opt/celebs/static/celebs/Павел Деревянко/1e46...  \n",
       "4    /opt/celebs/static/celebs/Александр Паль/2924f...  \n",
       "..                                                 ...  \n",
       "995  /opt/celebs/static/celebs/Павел Воля/150e9584e...  \n",
       "996  /opt/celebs/static/celebs/Баста/8f21c52249004b...  \n",
       "997  /opt/celebs/static/celebs/Семен Слепаков/3e7b8...  \n",
       "998  /opt/celebs/static/celebs/Иван Ургант/0a1c935f...  \n",
       "999  /opt/celebs/static/celebs/Джиган/8e9f865f85c04...  \n",
       "\n",
       "[1000 rows x 3 columns]"
      ]
     },
     "execution_count": 20,
     "metadata": {},
     "output_type": "execute_result"
    }
   ],
   "source": [
    "df_celeb_man = pd.read_csv(\"/app/celeb_man.csv\", header=None)\n",
    "df_celeb_man"
   ]
  },
  {
   "cell_type": "code",
   "execution_count": 21,
   "metadata": {},
   "outputs": [
    {
     "data": {
      "text/html": [
       "<div>\n",
       "<style scoped>\n",
       "    .dataframe tbody tr th:only-of-type {\n",
       "        vertical-align: middle;\n",
       "    }\n",
       "\n",
       "    .dataframe tbody tr th {\n",
       "        vertical-align: top;\n",
       "    }\n",
       "\n",
       "    .dataframe thead th {\n",
       "        text-align: right;\n",
       "    }\n",
       "</style>\n",
       "<table border=\"1\" class=\"dataframe\">\n",
       "  <thead>\n",
       "    <tr style=\"text-align: right;\">\n",
       "      <th></th>\n",
       "      <th>0</th>\n",
       "      <th>1</th>\n",
       "      <th>2</th>\n",
       "    </tr>\n",
       "  </thead>\n",
       "  <tbody>\n",
       "    <tr>\n",
       "      <th>0</th>\n",
       "      <td>Vogue France</td>\n",
       "      <td>женский</td>\n",
       "      <td>/opt/celebs/static/celebs/Vogue France/27026d4...</td>\n",
       "    </tr>\n",
       "    <tr>\n",
       "      <th>1</th>\n",
       "      <td>Олеся Фаттахова</td>\n",
       "      <td>женский</td>\n",
       "      <td>/opt/celebs/static/celebs/Олеся Фаттахова/b868...</td>\n",
       "    </tr>\n",
       "    <tr>\n",
       "      <th>2</th>\n",
       "      <td>Анна Семенович</td>\n",
       "      <td>женский</td>\n",
       "      <td>/opt/celebs/static/celebs/Анна Семенович/cd130...</td>\n",
       "    </tr>\n",
       "    <tr>\n",
       "      <th>3</th>\n",
       "      <td>Яна Рудковская</td>\n",
       "      <td>женский</td>\n",
       "      <td>/opt/celebs/static/celebs/Яна Рудковская/6c9d6...</td>\n",
       "    </tr>\n",
       "    <tr>\n",
       "      <th>4</th>\n",
       "      <td>Ekaterina Mtsituridze</td>\n",
       "      <td>женский</td>\n",
       "      <td>/opt/celebs/static/celebs/Ekaterina Mtsituridz...</td>\n",
       "    </tr>\n",
       "    <tr>\n",
       "      <th>...</th>\n",
       "      <td>...</td>\n",
       "      <td>...</td>\n",
       "      <td>...</td>\n",
       "    </tr>\n",
       "    <tr>\n",
       "      <th>995</th>\n",
       "      <td>Karina Paletskikh</td>\n",
       "      <td>женский</td>\n",
       "      <td>/opt/celebs/static/celebs/Karina Paletskikh/2a...</td>\n",
       "    </tr>\n",
       "    <tr>\n",
       "      <th>996</th>\n",
       "      <td>Miranda Cosgrove</td>\n",
       "      <td>женский</td>\n",
       "      <td>/opt/celebs/static/celebs/Miranda Cosgrove/f0e...</td>\n",
       "    </tr>\n",
       "    <tr>\n",
       "      <th>997</th>\n",
       "      <td>Алсу</td>\n",
       "      <td>женский</td>\n",
       "      <td>/opt/celebs/static/celebs/Алсу/75b235aebf5e484...</td>\n",
       "    </tr>\n",
       "    <tr>\n",
       "      <th>998</th>\n",
       "      <td>Ксения Бородина</td>\n",
       "      <td>женский</td>\n",
       "      <td>/opt/celebs/static/celebs/Ксения Бородина/6432...</td>\n",
       "    </tr>\n",
       "    <tr>\n",
       "      <th>999</th>\n",
       "      <td>Анастасия Квитко</td>\n",
       "      <td>женский</td>\n",
       "      <td>/opt/celebs/static/celebs/Анастасия Квитко/93c...</td>\n",
       "    </tr>\n",
       "  </tbody>\n",
       "</table>\n",
       "<p>1000 rows × 3 columns</p>\n",
       "</div>"
      ],
      "text/plain": [
       "                         0        1  \\\n",
       "0             Vogue France  женский   \n",
       "1          Олеся Фаттахова  женский   \n",
       "2           Анна Семенович  женский   \n",
       "3           Яна Рудковская  женский   \n",
       "4    Ekaterina Mtsituridze  женский   \n",
       "..                     ...      ...   \n",
       "995      Karina Paletskikh  женский   \n",
       "996       Miranda Cosgrove  женский   \n",
       "997                   Алсу  женский   \n",
       "998        Ксения Бородина  женский   \n",
       "999       Анастасия Квитко  женский   \n",
       "\n",
       "                                                     2  \n",
       "0    /opt/celebs/static/celebs/Vogue France/27026d4...  \n",
       "1    /opt/celebs/static/celebs/Олеся Фаттахова/b868...  \n",
       "2    /opt/celebs/static/celebs/Анна Семенович/cd130...  \n",
       "3    /opt/celebs/static/celebs/Яна Рудковская/6c9d6...  \n",
       "4    /opt/celebs/static/celebs/Ekaterina Mtsituridz...  \n",
       "..                                                 ...  \n",
       "995  /opt/celebs/static/celebs/Karina Paletskikh/2a...  \n",
       "996  /opt/celebs/static/celebs/Miranda Cosgrove/f0e...  \n",
       "997  /opt/celebs/static/celebs/Алсу/75b235aebf5e484...  \n",
       "998  /opt/celebs/static/celebs/Ксения Бородина/6432...  \n",
       "999  /opt/celebs/static/celebs/Анастасия Квитко/93c...  \n",
       "\n",
       "[1000 rows x 3 columns]"
      ]
     },
     "execution_count": 21,
     "metadata": {},
     "output_type": "execute_result"
    }
   ],
   "source": [
    "df_celeb_woman = pd.read_csv(\"/app/celeb_woman.csv\", header=None)\n",
    "df_celeb_woman"
   ]
  },
  {
   "cell_type": "code",
   "execution_count": 22,
   "metadata": {},
   "outputs": [],
   "source": [
    "celeb_woman_list = df_celeb_woman[2].tolist()\n",
    "celeb_man_list = df_celeb_man[2].tolist()"
   ]
  },
  {
   "cell_type": "code",
   "execution_count": 23,
   "metadata": {},
   "outputs": [],
   "source": [
    "random.shuffle(celeb_woman_list)\n",
    "random.shuffle(celeb_man_list)"
   ]
  },
  {
   "cell_type": "code",
   "execution_count": 24,
   "metadata": {},
   "outputs": [],
   "source": [
    "train_celeb_woman_list = celeb_woman_list[:750]\n",
    "valid_celeb_woman_list = celeb_woman_list[750:900]\n",
    "test_celeb_woman_list = celeb_woman_list[900:]\n",
    "\n",
    "train_celeb_man_list = celeb_man_list[:750]\n",
    "valid_celeb_man_list = celeb_man_list[750:900]\n",
    "test_celeb_man_list = celeb_man_list[900:]"
   ]
  },
  {
   "cell_type": "code",
   "execution_count": null,
   "metadata": {},
   "outputs": [],
   "source": [
    "for f in train_celeb_woman_list:\n",
    "    try:\n",
    "        shutil.copyfile(\"/app\" + f[11:], f\"/app/data/train/woman/{f.split('/')[-1]}\")\n",
    "    except:\n",
    "        continue\n",
    "for f in valid_celeb_woman_list:\n",
    "    try:\n",
    "        shutil.copyfile(\"/app\" + f[11:], f\"/app/data/valid/woman/{f.split('/')[-1]}\")\n",
    "    except:\n",
    "        continue\n",
    "for f in test_celeb_woman_list:\n",
    "    try:\n",
    "        shutil.copyfile(\"/app\" + f[11:], f\"/app/data/test/woman/{f.split('/')[-1]}\")\n",
    "    except:\n",
    "        continue\n",
    "    \n",
    "for f in train_celeb_man_list:\n",
    "    try:\n",
    "        shutil.copyfile(\"/app\" + f[11:], f\"/app/data/train/man/{f.split('/')[-1]}\")\n",
    "    except:\n",
    "        continue\n",
    "for f in valid_celeb_man_list:\n",
    "    try:\n",
    "        shutil.copyfile(\"/app\" + f[11:], f\"/app/data/valid/man/{f.split('/')[-1]}\")\n",
    "    except:\n",
    "        continue\n",
    "for f in test_celeb_man_list:\n",
    "    try:\n",
    "        shutil.copyfile(\"/app\" + f[11:], f\"/app/data/test/man/{f.split('/')[-1]}\")\n",
    "    except:\n",
    "        continue"
   ]
  },
  {
   "cell_type": "markdown",
   "metadata": {},
   "source": [
    "In the code above, I have collected all the available data in the format for the datasets.ImageFolder class and divided them in a 75/15/10 ratio. The target classes are \"nearly\" balanced."
   ]
  },
  {
   "cell_type": "markdown",
   "metadata": {},
   "source": [
    "# Train"
   ]
  },
  {
   "cell_type": "code",
   "execution_count": 25,
   "metadata": {},
   "outputs": [],
   "source": [
    "data_transforms = {\n",
    "    'train': transforms.Compose([\n",
    "        transforms.Resize((224, 224)),\n",
    "        transforms.ToTensor(),\n",
    "        transforms.Normalize([0.485, 0.456, 0.406], [0.229, 0.224, 0.225])\n",
    "    ]),\n",
    "    'valid': transforms.Compose([\n",
    "        transforms.Resize((224, 224)),\n",
    "        transforms.ToTensor(),\n",
    "        transforms.Normalize([0.485, 0.456, 0.406], [0.229, 0.224, 0.225])\n",
    "    ]),\n",
    "    'test': transforms.Compose([\n",
    "        transforms.Resize((224, 224)),\n",
    "        transforms.ToTensor(),\n",
    "        transforms.Normalize([0.485, 0.456, 0.406], [0.229, 0.224, 0.225])\n",
    "    ]),\n",
    "}\n",
    "\n",
    "data_dir = 'data'\n",
    "image_datasets = {x: datasets.ImageFolder(os.path.join(data_dir, x),\n",
    "                                          data_transforms[x])\n",
    "                  for x in ['train', 'valid', \"test\"]}"
   ]
  },
  {
   "cell_type": "code",
   "execution_count": 26,
   "metadata": {},
   "outputs": [],
   "source": [
    "image_datasets['valid'].targets = torch.tensor(image_datasets['valid'].targets)\n",
    "image_datasets['valid'].targets[image_datasets['valid'].targets == 1] = 0\n",
    "image_datasets['valid'].targets[image_datasets['valid'].targets == 2] = 1\n",
    "image_datasets['valid'].targets = image_datasets['valid'].targets.tolist()\n",
    "\n",
    "image_datasets['test'].targets = torch.tensor(image_datasets['test'].targets)\n",
    "image_datasets['test'].targets[image_datasets['test'].targets == 1] = 0\n",
    "image_datasets['test'].targets[image_datasets['test'].targets == 2] = 1\n",
    "image_datasets['test'].targets = image_datasets['test'].targets.tolist()"
   ]
  },
  {
   "cell_type": "code",
   "execution_count": 27,
   "metadata": {},
   "outputs": [],
   "source": [
    "dataloader_train = {x: torch.utils.data.DataLoader(image_datasets[x], batch_size=32,\n",
    "                                             shuffle=True, num_workers=10) for x in ['train']}\n",
    "dataloader_valid = {x: torch.utils.data.DataLoader(image_datasets[x], batch_size=32,\n",
    "                                             shuffle=False, num_workers=10) for x in ['valid']}\n",
    "dataloader_test = {x: torch.utils.data.DataLoader(image_datasets[x], batch_size=32,\n",
    "                                             shuffle=True, num_workers=10) for x in ['test']}\n",
    "\n",
    "dataloaders = {**dataloader_train, **dataloader_valid, **dataloader_test}\n",
    "\n",
    "dataset_sizes = {x: len(image_datasets[x]) for x in ['train', 'valid', \"test\"]}\n",
    "class_names = image_datasets['train'].classes\n",
    "\n",
    "device = torch.device(\"cuda:0\" if torch.cuda.is_available() else \"cpu\")"
   ]
  },
  {
   "cell_type": "code",
   "execution_count": 28,
   "metadata": {},
   "outputs": [
    {
     "data": {
      "image/png": "[encoded data removed]",
      "text/plain": [
       "<Figure size 432x288 with 1 Axes>"
      ]
     },
     "metadata": {
      "needs_background": "light"
     },
     "output_type": "display_data"
    }
   ],
   "source": [
    "def imshow(inp, title=None):\n",
    "    \"\"\"Imshow for Tensor.\"\"\"\n",
    "    inp = inp.numpy().transpose((1, 2, 0))\n",
    "    mean = np.array([0.485, 0.456, 0.406])\n",
    "    std = np.array([0.229, 0.224, 0.225])\n",
    "    inp = std * inp + mean\n",
    "    inp = np.clip(inp, 0, 1)\n",
    "    plt.imshow(inp)\n",
    "    if title is not None:\n",
    "        plt.title(title)\n",
    "    plt.pause(0.001)  # pause a bit so that plots are updated\n",
    "\n",
    "\n",
    "# Get a batch of training data\n",
    "inputs, classes = next(iter(dataloaders['train']))\n",
    "\n",
    "# Make a grid from batch\n",
    "out = torchvision.utils.make_grid(inputs)\n",
    "\n",
    "imshow(out, title=[class_names[x] for x in classes])"
   ]
  },
  {
   "cell_type": "code",
   "execution_count": 29,
   "metadata": {},
   "outputs": [],
   "source": [
    "def train_model(model, criterion, optimizer, scheduler, num_epochs=20):\n",
    "    since = time.time()\n",
    "\n",
    "    best_model_wts = copy.deepcopy(model.state_dict())\n",
    "    best_acc = 0.0\n",
    "\n",
    "    for epoch in range(num_epochs):\n",
    "        print('Epoch {}/{}'.format(epoch, num_epochs - 1))\n",
    "        print('-' * 10)\n",
    "\n",
    "        # Each epoch has a training and validation phase\n",
    "        for phase in ['train', 'valid']:\n",
    "            if phase == 'train':\n",
    "                model.train()  # Set model to training mode\n",
    "            else:\n",
    "                model.eval()   # Set model to evaluate mode\n",
    "\n",
    "            running_loss = 0.0\n",
    "            running_corrects = 0\n",
    "\n",
    "            # Iterate over data.\n",
    "            for inputs, labels in dataloaders[phase]:\n",
    "                inputs = inputs.to(device)\n",
    "                labels = labels.to(device)\n",
    "\n",
    "                # zero the parameter gradients\n",
    "                optimizer.zero_grad()\n",
    "\n",
    "                # forward\n",
    "                # track history if only in train\n",
    "                with torch.set_grad_enabled(phase == 'train'):\n",
    "                    outputs = model(inputs)\n",
    "                    _, preds = torch.max(outputs, 1)\n",
    "#                     if phase == 'valid': # Second override of target classes, causing all classes to be 0\n",
    "#                         labels[labels == 1] = 0\n",
    "#                         labels[labels == 2] = 1\n",
    "                    loss = criterion(outputs, labels)\n",
    "\n",
    "                    # backward + optimize only if in training phase\n",
    "                    if phase == 'train':\n",
    "                        loss.backward()\n",
    "                        optimizer.step()\n",
    "\n",
    "                # statistics\n",
    "                running_loss += loss.item() * inputs.size(0)\n",
    "                running_corrects += torch.sum(preds == labels.data)\n",
    "            if phase == 'train':\n",
    "                scheduler.step()\n",
    "\n",
    "            epoch_loss = running_loss / dataset_sizes[phase]\n",
    "            epoch_acc = running_corrects.double() / dataset_sizes[phase]\n",
    "\n",
    "            print('{} Loss: {:.4f} Acc: {:.4f}'.format(\n",
    "                phase, epoch_loss, epoch_acc))\n",
    "\n",
    "            # deep copy the model\n",
    "            if phase == 'valid' and epoch_acc > best_acc:\n",
    "                best_acc = epoch_acc\n",
    "                best_model_wts = copy.deepcopy(model.state_dict())\n",
    "\n",
    "        print()\n",
    "\n",
    "    time_elapsed = time.time() - since\n",
    "    print('Training complete in {:.0f}m {:.0f}s'.format(\n",
    "        time_elapsed // 60, time_elapsed % 60))\n",
    "    print('Best val Acc: {:4f}'.format(best_acc))\n",
    "\n",
    "    # load best model weights\n",
    "    model.load_state_dict(best_model_wts)\n",
    "    return model\n"
   ]
  },
  {
   "cell_type": "code",
   "execution_count": 30,
   "metadata": {},
   "outputs": [],
   "source": [
    "checkpoint_path = \"/app/gender_classifier_lite.pth\"\n",
    "model_ft = models.mobilenet_v2(pretrained=False)\n",
    "model_ft.classifier[1] = nn.Linear(in_features=1280, out_features=2, bias=True)\n",
    "model_ft.load_state_dict(torch.load(checkpoint_path))\n",
    "\n",
    "model_ft = model_ft.to(device)\n",
    "criterion = nn.CrossEntropyLoss()\n",
    "\n",
    "# Observe that all parameters are being optimized\n",
    "optimizer_ft = optim.Adam(model_ft.parameters(), lr=0.00001) # Reduced learning rate for finetune model\n",
    "\n",
    "# Decay LR by a factor of 0.1 every 10 epochs\n",
    "exp_lr_scheduler = lr_scheduler.StepLR(optimizer_ft, step_size=5, gamma=0.1)"
   ]
  },
  {
   "cell_type": "code",
   "execution_count": 31,
   "metadata": {},
   "outputs": [
    {
     "name": "stdout",
     "output_type": "stream",
     "text": [
      "Epoch 0/14\n",
      "----------\n",
      "train Loss: 0.0874 Acc: 0.9746\n",
      "valid Loss: 0.0728 Acc: 0.9731\n",
      "\n",
      "Epoch 1/14\n",
      "----------\n",
      "train Loss: 0.0519 Acc: 0.9820\n",
      "valid Loss: 0.0624 Acc: 0.9757\n",
      "\n",
      "Epoch 2/14\n",
      "----------\n",
      "train Loss: 0.0389 Acc: 0.9872\n",
      "valid Loss: 0.0600 Acc: 0.9789\n",
      "\n",
      "Epoch 3/14\n",
      "----------\n",
      "train Loss: 0.0308 Acc: 0.9892\n",
      "valid Loss: 0.0582 Acc: 0.9809\n",
      "\n",
      "Epoch 4/14\n",
      "----------\n",
      "train Loss: 0.0225 Acc: 0.9932\n",
      "valid Loss: 0.0577 Acc: 0.9805\n",
      "\n",
      "Epoch 5/14\n",
      "----------\n",
      "train Loss: 0.0162 Acc: 0.9956\n",
      "valid Loss: 0.0566 Acc: 0.9817\n",
      "\n",
      "Epoch 6/14\n",
      "----------\n",
      "train Loss: 0.0158 Acc: 0.9956\n",
      "valid Loss: 0.0603 Acc: 0.9815\n",
      "\n",
      "Epoch 7/14\n",
      "----------\n",
      "train Loss: 0.0147 Acc: 0.9963\n",
      "valid Loss: 0.0594 Acc: 0.9815\n",
      "\n",
      "Epoch 8/14\n",
      "----------\n",
      "train Loss: 0.0147 Acc: 0.9959\n",
      "valid Loss: 0.0594 Acc: 0.9811\n",
      "\n",
      "Epoch 9/14\n",
      "----------\n",
      "train Loss: 0.0131 Acc: 0.9966\n",
      "valid Loss: 0.0595 Acc: 0.9817\n",
      "\n",
      "Epoch 10/14\n",
      "----------\n",
      "train Loss: 0.0131 Acc: 0.9964\n",
      "valid Loss: 0.0601 Acc: 0.9811\n",
      "\n",
      "Epoch 11/14\n",
      "----------\n",
      "train Loss: 0.0136 Acc: 0.9963\n",
      "valid Loss: 0.0641 Acc: 0.9805\n",
      "\n",
      "Epoch 12/14\n",
      "----------\n",
      "train Loss: 0.0138 Acc: 0.9968\n",
      "valid Loss: 0.0619 Acc: 0.9805\n",
      "\n",
      "Epoch 13/14\n",
      "----------\n",
      "train Loss: 0.0125 Acc: 0.9968\n",
      "valid Loss: 0.0579 Acc: 0.9805\n",
      "\n",
      "Epoch 14/14\n",
      "----------\n",
      "train Loss: 0.0128 Acc: 0.9964\n",
      "valid Loss: 0.0585 Acc: 0.9811\n",
      "\n",
      "Training complete in 33m 46s\n",
      "Best val Acc: 0.981655\n"
     ]
    }
   ],
   "source": [
    "model_ft = train_model(model_ft, criterion, optimizer_ft, exp_lr_scheduler,\n",
    "                       num_epochs=15)"
   ]
  },
  {
   "cell_type": "code",
   "execution_count": 32,
   "metadata": {},
   "outputs": [],
   "source": [
    "def visualize_model(model, num_images=10):\n",
    "    was_training = model.training\n",
    "    model.eval()\n",
    "    images_so_far = 0\n",
    "    fig = plt.figure()\n",
    "\n",
    "    with torch.no_grad():\n",
    "        for i, (inputs, labels) in enumerate(dataloaders['valid']):\n",
    "            inputs = inputs.to(device)\n",
    "            labels = labels.to(device)\n",
    "\n",
    "            outputs = model(inputs)\n",
    "            _, preds = torch.max(outputs, 1)\n",
    "            for j in range(inputs.size()[0]):\n",
    "                images_so_far += 1\n",
    "                ax = plt.subplot(num_images//2, 2, images_so_far)\n",
    "                ax.axis('off')\n",
    "                ax.set_title('predicted: {}'.format(class_names[preds[j]]))\n",
    "                imshow(inputs.cpu().data[j])\n",
    "\n",
    "                if images_so_far == num_images:\n",
    "                    model.train(mode=was_training)\n",
    "                    return\n",
    "        model.train(mode=was_training)"
   ]
  },
  {
   "cell_type": "code",
   "execution_count": 33,
   "metadata": {},
   "outputs": [
    {
     "data": {
      "image/png": "[encoded data removed]",
      "text/plain": [
       "<Figure size 432x288 with 1 Axes>"
      ]
     },
     "metadata": {
      "needs_background": "light"
     },
     "output_type": "display_data"
    },
    {
     "data": {
      "image/png": "[encoded data removed]",
      "text/plain": [
       "<Figure size 432x288 with 1 Axes>"
      ]
     },
     "metadata": {
      "needs_background": "light"
     },
     "output_type": "display_data"
    },
    {
     "data": {
      "image/png": "[encoded data removed]",
      "text/plain": [
       "<Figure size 432x288 with 1 Axes>"
      ]
     },
     "metadata": {
      "needs_background": "light"
     },
     "output_type": "display_data"
    },
    {
     "data": {
      "image/png": "[encoded data removed]",
      "text/plain": [
       "<Figure size 432x288 with 1 Axes>"
      ]
     },
     "metadata": {
      "needs_background": "light"
     },
     "output_type": "display_data"
    },
    {
     "data": {
      "image/png": "[encoded data removed]",
      "text/plain": [
       "<Figure size 432x288 with 1 Axes>"
      ]
     },
     "metadata": {
      "needs_background": "light"
     },
     "output_type": "display_data"
    },
    {
     "data": {
      "image/png": "[encoded data removed]",
      "text/plain": [
       "<Figure size 432x288 with 1 Axes>"
      ]
     },
     "metadata": {
      "needs_background": "light"
     },
     "output_type": "display_data"
    },
    {
     "data": {
      "image/png": "[encoded data removed]",
      "text/plain": [
       "<Figure size 432x288 with 1 Axes>"
      ]
     },
     "metadata": {
      "needs_background": "light"
     },
     "output_type": "display_data"
    },
    {
     "data": {
      "image/png": "[encoded data removed]",
      "text/plain": [
       "<Figure size 432x288 with 1 Axes>"
      ]
     },
     "metadata": {
      "needs_background": "light"
     },
     "output_type": "display_data"
    },
    {
     "data": {
      "image/png": "[encoded data removed]",
      "text/plain": [
       "<Figure size 432x288 with 1 Axes>"
      ]
     },
     "metadata": {
      "needs_background": "light"
     },
     "output_type": "display_data"
    },
    {
     "data": {
      "image/png": "[encoded data removed]",
      "text/plain": [
       "<Figure size 432x288 with 1 Axes>"
      ]
     },
     "metadata": {
      "needs_background": "light"
     },
     "output_type": "display_data"
    }
   ],
   "source": [
    "visualize_model(model_ft)"
   ]
  },
  {
   "cell_type": "code",
   "execution_count": 34,
   "metadata": {},
   "outputs": [],
   "source": [
    "torch.save(model_ft.state_dict(), 'gender_v1.pth')"
   ]
  },
  {
   "cell_type": "markdown",
   "metadata": {},
   "source": [
    "# Test Model"
   ]
  },
  {
   "cell_type": "code",
   "execution_count": 35,
   "metadata": {},
   "outputs": [],
   "source": [
    "test_ch_path = \"/app/gender_v1.pth\""
   ]
  },
  {
   "cell_type": "code",
   "execution_count": 36,
   "metadata": {},
   "outputs": [
    {
     "data": {
      "text/plain": [
       "MobileNetV2(\n",
       "  (features): Sequential(\n",
       "    (0): ConvBNActivation(\n",
       "      (0): Conv2d(3, 32, kernel_size=(3, 3), stride=(2, 2), padding=(1, 1), bias=False)\n",
       "      (1): BatchNorm2d(32, eps=1e-05, momentum=0.1, affine=True, track_running_stats=True)\n",
       "      (2): ReLU6(inplace=True)\n",
       "    )\n",
       "    (1): InvertedResidual(\n",
       "      (conv): Sequential(\n",
       "        (0): ConvBNActivation(\n",
       "          (0): Conv2d(32, 32, kernel_size=(3, 3), stride=(1, 1), padding=(1, 1), groups=32, bias=False)\n",
       "          (1): BatchNorm2d(32, eps=1e-05, momentum=0.1, affine=True, track_running_stats=True)\n",
       "          (2): ReLU6(inplace=True)\n",
       "        )\n",
       "        (1): Conv2d(32, 16, kernel_size=(1, 1), stride=(1, 1), bias=False)\n",
       "        (2): BatchNorm2d(16, eps=1e-05, momentum=0.1, affine=True, track_running_stats=True)\n",
       "      )\n",
       "    )\n",
       "    (2): InvertedResidual(\n",
       "      (conv): Sequential(\n",
       "        (0): ConvBNActivation(\n",
       "          (0): Conv2d(16, 96, kernel_size=(1, 1), stride=(1, 1), bias=False)\n",
       "          (1): BatchNorm2d(96, eps=1e-05, momentum=0.1, affine=True, track_running_stats=True)\n",
       "          (2): ReLU6(inplace=True)\n",
       "        )\n",
       "        (1): ConvBNActivation(\n",
       "          (0): Conv2d(96, 96, kernel_size=(3, 3), stride=(2, 2), padding=(1, 1), groups=96, bias=False)\n",
       "          (1): BatchNorm2d(96, eps=1e-05, momentum=0.1, affine=True, track_running_stats=True)\n",
       "          (2): ReLU6(inplace=True)\n",
       "        )\n",
       "        (2): Conv2d(96, 24, kernel_size=(1, 1), stride=(1, 1), bias=False)\n",
       "        (3): BatchNorm2d(24, eps=1e-05, momentum=0.1, affine=True, track_running_stats=True)\n",
       "      )\n",
       "    )\n",
       "    (3): InvertedResidual(\n",
       "      (conv): Sequential(\n",
       "        (0): ConvBNActivation(\n",
       "          (0): Conv2d(24, 144, kernel_size=(1, 1), stride=(1, 1), bias=False)\n",
       "          (1): BatchNorm2d(144, eps=1e-05, momentum=0.1, affine=True, track_running_stats=True)\n",
       "          (2): ReLU6(inplace=True)\n",
       "        )\n",
       "        (1): ConvBNActivation(\n",
       "          (0): Conv2d(144, 144, kernel_size=(3, 3), stride=(1, 1), padding=(1, 1), groups=144, bias=False)\n",
       "          (1): BatchNorm2d(144, eps=1e-05, momentum=0.1, affine=True, track_running_stats=True)\n",
       "          (2): ReLU6(inplace=True)\n",
       "        )\n",
       "        (2): Conv2d(144, 24, kernel_size=(1, 1), stride=(1, 1), bias=False)\n",
       "        (3): BatchNorm2d(24, eps=1e-05, momentum=0.1, affine=True, track_running_stats=True)\n",
       "      )\n",
       "    )\n",
       "    (4): InvertedResidual(\n",
       "      (conv): Sequential(\n",
       "        (0): ConvBNActivation(\n",
       "          (0): Conv2d(24, 144, kernel_size=(1, 1), stride=(1, 1), bias=False)\n",
       "          (1): BatchNorm2d(144, eps=1e-05, momentum=0.1, affine=True, track_running_stats=True)\n",
       "          (2): ReLU6(inplace=True)\n",
       "        )\n",
       "        (1): ConvBNActivation(\n",
       "          (0): Conv2d(144, 144, kernel_size=(3, 3), stride=(2, 2), padding=(1, 1), groups=144, bias=False)\n",
       "          (1): BatchNorm2d(144, eps=1e-05, momentum=0.1, affine=True, track_running_stats=True)\n",
       "          (2): ReLU6(inplace=True)\n",
       "        )\n",
       "        (2): Conv2d(144, 32, kernel_size=(1, 1), stride=(1, 1), bias=False)\n",
       "        (3): BatchNorm2d(32, eps=1e-05, momentum=0.1, affine=True, track_running_stats=True)\n",
       "      )\n",
       "    )\n",
       "    (5): InvertedResidual(\n",
       "      (conv): Sequential(\n",
       "        (0): ConvBNActivation(\n",
       "          (0): Conv2d(32, 192, kernel_size=(1, 1), stride=(1, 1), bias=False)\n",
       "          (1): BatchNorm2d(192, eps=1e-05, momentum=0.1, affine=True, track_running_stats=True)\n",
       "          (2): ReLU6(inplace=True)\n",
       "        )\n",
       "        (1): ConvBNActivation(\n",
       "          (0): Conv2d(192, 192, kernel_size=(3, 3), stride=(1, 1), padding=(1, 1), groups=192, bias=False)\n",
       "          (1): BatchNorm2d(192, eps=1e-05, momentum=0.1, affine=True, track_running_stats=True)\n",
       "          (2): ReLU6(inplace=True)\n",
       "        )\n",
       "        (2): Conv2d(192, 32, kernel_size=(1, 1), stride=(1, 1), bias=False)\n",
       "        (3): BatchNorm2d(32, eps=1e-05, momentum=0.1, affine=True, track_running_stats=True)\n",
       "      )\n",
       "    )\n",
       "    (6): InvertedResidual(\n",
       "      (conv): Sequential(\n",
       "        (0): ConvBNActivation(\n",
       "          (0): Conv2d(32, 192, kernel_size=(1, 1), stride=(1, 1), bias=False)\n",
       "          (1): BatchNorm2d(192, eps=1e-05, momentum=0.1, affine=True, track_running_stats=True)\n",
       "          (2): ReLU6(inplace=True)\n",
       "        )\n",
       "        (1): ConvBNActivation(\n",
       "          (0): Conv2d(192, 192, kernel_size=(3, 3), stride=(1, 1), padding=(1, 1), groups=192, bias=False)\n",
       "          (1): BatchNorm2d(192, eps=1e-05, momentum=0.1, affine=True, track_running_stats=True)\n",
       "          (2): ReLU6(inplace=True)\n",
       "        )\n",
       "        (2): Conv2d(192, 32, kernel_size=(1, 1), stride=(1, 1), bias=False)\n",
       "        (3): BatchNorm2d(32, eps=1e-05, momentum=0.1, affine=True, track_running_stats=True)\n",
       "      )\n",
       "    )\n",
       "    (7): InvertedResidual(\n",
       "      (conv): Sequential(\n",
       "        (0): ConvBNActivation(\n",
       "          (0): Conv2d(32, 192, kernel_size=(1, 1), stride=(1, 1), bias=False)\n",
       "          (1): BatchNorm2d(192, eps=1e-05, momentum=0.1, affine=True, track_running_stats=True)\n",
       "          (2): ReLU6(inplace=True)\n",
       "        )\n",
       "        (1): ConvBNActivation(\n",
       "          (0): Conv2d(192, 192, kernel_size=(3, 3), stride=(2, 2), padding=(1, 1), groups=192, bias=False)\n",
       "          (1): BatchNorm2d(192, eps=1e-05, momentum=0.1, affine=True, track_running_stats=True)\n",
       "          (2): ReLU6(inplace=True)\n",
       "        )\n",
       "        (2): Conv2d(192, 64, kernel_size=(1, 1), stride=(1, 1), bias=False)\n",
       "        (3): BatchNorm2d(64, eps=1e-05, momentum=0.1, affine=True, track_running_stats=True)\n",
       "      )\n",
       "    )\n",
       "    (8): InvertedResidual(\n",
       "      (conv): Sequential(\n",
       "        (0): ConvBNActivation(\n",
       "          (0): Conv2d(64, 384, kernel_size=(1, 1), stride=(1, 1), bias=False)\n",
       "          (1): BatchNorm2d(384, eps=1e-05, momentum=0.1, affine=True, track_running_stats=True)\n",
       "          (2): ReLU6(inplace=True)\n",
       "        )\n",
       "        (1): ConvBNActivation(\n",
       "          (0): Conv2d(384, 384, kernel_size=(3, 3), stride=(1, 1), padding=(1, 1), groups=384, bias=False)\n",
       "          (1): BatchNorm2d(384, eps=1e-05, momentum=0.1, affine=True, track_running_stats=True)\n",
       "          (2): ReLU6(inplace=True)\n",
       "        )\n",
       "        (2): Conv2d(384, 64, kernel_size=(1, 1), stride=(1, 1), bias=False)\n",
       "        (3): BatchNorm2d(64, eps=1e-05, momentum=0.1, affine=True, track_running_stats=True)\n",
       "      )\n",
       "    )\n",
       "    (9): InvertedResidual(\n",
       "      (conv): Sequential(\n",
       "        (0): ConvBNActivation(\n",
       "          (0): Conv2d(64, 384, kernel_size=(1, 1), stride=(1, 1), bias=False)\n",
       "          (1): BatchNorm2d(384, eps=1e-05, momentum=0.1, affine=True, track_running_stats=True)\n",
       "          (2): ReLU6(inplace=True)\n",
       "        )\n",
       "        (1): ConvBNActivation(\n",
       "          (0): Conv2d(384, 384, kernel_size=(3, 3), stride=(1, 1), padding=(1, 1), groups=384, bias=False)\n",
       "          (1): BatchNorm2d(384, eps=1e-05, momentum=0.1, affine=True, track_running_stats=True)\n",
       "          (2): ReLU6(inplace=True)\n",
       "        )\n",
       "        (2): Conv2d(384, 64, kernel_size=(1, 1), stride=(1, 1), bias=False)\n",
       "        (3): BatchNorm2d(64, eps=1e-05, momentum=0.1, affine=True, track_running_stats=True)\n",
       "      )\n",
       "    )\n",
       "    (10): InvertedResidual(\n",
       "      (conv): Sequential(\n",
       "        (0): ConvBNActivation(\n",
       "          (0): Conv2d(64, 384, kernel_size=(1, 1), stride=(1, 1), bias=False)\n",
       "          (1): BatchNorm2d(384, eps=1e-05, momentum=0.1, affine=True, track_running_stats=True)\n",
       "          (2): ReLU6(inplace=True)\n",
       "        )\n",
       "        (1): ConvBNActivation(\n",
       "          (0): Conv2d(384, 384, kernel_size=(3, 3), stride=(1, 1), padding=(1, 1), groups=384, bias=False)\n",
       "          (1): BatchNorm2d(384, eps=1e-05, momentum=0.1, affine=True, track_running_stats=True)\n",
       "          (2): ReLU6(inplace=True)\n",
       "        )\n",
       "        (2): Conv2d(384, 64, kernel_size=(1, 1), stride=(1, 1), bias=False)\n",
       "        (3): BatchNorm2d(64, eps=1e-05, momentum=0.1, affine=True, track_running_stats=True)\n",
       "      )\n",
       "    )\n",
       "    (11): InvertedResidual(\n",
       "      (conv): Sequential(\n",
       "        (0): ConvBNActivation(\n",
       "          (0): Conv2d(64, 384, kernel_size=(1, 1), stride=(1, 1), bias=False)\n",
       "          (1): BatchNorm2d(384, eps=1e-05, momentum=0.1, affine=True, track_running_stats=True)\n",
       "          (2): ReLU6(inplace=True)\n",
       "        )\n",
       "        (1): ConvBNActivation(\n",
       "          (0): Conv2d(384, 384, kernel_size=(3, 3), stride=(1, 1), padding=(1, 1), groups=384, bias=False)\n",
       "          (1): BatchNorm2d(384, eps=1e-05, momentum=0.1, affine=True, track_running_stats=True)\n",
       "          (2): ReLU6(inplace=True)\n",
       "        )\n",
       "        (2): Conv2d(384, 96, kernel_size=(1, 1), stride=(1, 1), bias=False)\n",
       "        (3): BatchNorm2d(96, eps=1e-05, momentum=0.1, affine=True, track_running_stats=True)\n",
       "      )\n",
       "    )\n",
       "    (12): InvertedResidual(\n",
       "      (conv): Sequential(\n",
       "        (0): ConvBNActivation(\n",
       "          (0): Conv2d(96, 576, kernel_size=(1, 1), stride=(1, 1), bias=False)\n",
       "          (1): BatchNorm2d(576, eps=1e-05, momentum=0.1, affine=True, track_running_stats=True)\n",
       "          (2): ReLU6(inplace=True)\n",
       "        )\n",
       "        (1): ConvBNActivation(\n",
       "          (0): Conv2d(576, 576, kernel_size=(3, 3), stride=(1, 1), padding=(1, 1), groups=576, bias=False)\n",
       "          (1): BatchNorm2d(576, eps=1e-05, momentum=0.1, affine=True, track_running_stats=True)\n",
       "          (2): ReLU6(inplace=True)\n",
       "        )\n",
       "        (2): Conv2d(576, 96, kernel_size=(1, 1), stride=(1, 1), bias=False)\n",
       "        (3): BatchNorm2d(96, eps=1e-05, momentum=0.1, affine=True, track_running_stats=True)\n",
       "      )\n",
       "    )\n",
       "    (13): InvertedResidual(\n",
       "      (conv): Sequential(\n",
       "        (0): ConvBNActivation(\n",
       "          (0): Conv2d(96, 576, kernel_size=(1, 1), stride=(1, 1), bias=False)\n",
       "          (1): BatchNorm2d(576, eps=1e-05, momentum=0.1, affine=True, track_running_stats=True)\n",
       "          (2): ReLU6(inplace=True)\n",
       "        )\n",
       "        (1): ConvBNActivation(\n",
       "          (0): Conv2d(576, 576, kernel_size=(3, 3), stride=(1, 1), padding=(1, 1), groups=576, bias=False)\n",
       "          (1): BatchNorm2d(576, eps=1e-05, momentum=0.1, affine=True, track_running_stats=True)\n",
       "          (2): ReLU6(inplace=True)\n",
       "        )\n",
       "        (2): Conv2d(576, 96, kernel_size=(1, 1), stride=(1, 1), bias=False)\n",
       "        (3): BatchNorm2d(96, eps=1e-05, momentum=0.1, affine=True, track_running_stats=True)\n",
       "      )\n",
       "    )\n",
       "    (14): InvertedResidual(\n",
       "      (conv): Sequential(\n",
       "        (0): ConvBNActivation(\n",
       "          (0): Conv2d(96, 576, kernel_size=(1, 1), stride=(1, 1), bias=False)\n",
       "          (1): BatchNorm2d(576, eps=1e-05, momentum=0.1, affine=True, track_running_stats=True)\n",
       "          (2): ReLU6(inplace=True)\n",
       "        )\n",
       "        (1): ConvBNActivation(\n",
       "          (0): Conv2d(576, 576, kernel_size=(3, 3), stride=(2, 2), padding=(1, 1), groups=576, bias=False)\n",
       "          (1): BatchNorm2d(576, eps=1e-05, momentum=0.1, affine=True, track_running_stats=True)\n",
       "          (2): ReLU6(inplace=True)\n",
       "        )\n",
       "        (2): Conv2d(576, 160, kernel_size=(1, 1), stride=(1, 1), bias=False)\n",
       "        (3): BatchNorm2d(160, eps=1e-05, momentum=0.1, affine=True, track_running_stats=True)\n",
       "      )\n",
       "    )\n",
       "    (15): InvertedResidual(\n",
       "      (conv): Sequential(\n",
       "        (0): ConvBNActivation(\n",
       "          (0): Conv2d(160, 960, kernel_size=(1, 1), stride=(1, 1), bias=False)\n",
       "          (1): BatchNorm2d(960, eps=1e-05, momentum=0.1, affine=True, track_running_stats=True)\n",
       "          (2): ReLU6(inplace=True)\n",
       "        )\n",
       "        (1): ConvBNActivation(\n",
       "          (0): Conv2d(960, 960, kernel_size=(3, 3), stride=(1, 1), padding=(1, 1), groups=960, bias=False)\n",
       "          (1): BatchNorm2d(960, eps=1e-05, momentum=0.1, affine=True, track_running_stats=True)\n",
       "          (2): ReLU6(inplace=True)\n",
       "        )\n",
       "        (2): Conv2d(960, 160, kernel_size=(1, 1), stride=(1, 1), bias=False)\n",
       "        (3): BatchNorm2d(160, eps=1e-05, momentum=0.1, affine=True, track_running_stats=True)\n",
       "      )\n",
       "    )\n",
       "    (16): InvertedResidual(\n",
       "      (conv): Sequential(\n",
       "        (0): ConvBNActivation(\n",
       "          (0): Conv2d(160, 960, kernel_size=(1, 1), stride=(1, 1), bias=False)\n",
       "          (1): BatchNorm2d(960, eps=1e-05, momentum=0.1, affine=True, track_running_stats=True)\n",
       "          (2): ReLU6(inplace=True)\n",
       "        )\n",
       "        (1): ConvBNActivation(\n",
       "          (0): Conv2d(960, 960, kernel_size=(3, 3), stride=(1, 1), padding=(1, 1), groups=960, bias=False)\n",
       "          (1): BatchNorm2d(960, eps=1e-05, momentum=0.1, affine=True, track_running_stats=True)\n",
       "          (2): ReLU6(inplace=True)\n",
       "        )\n",
       "        (2): Conv2d(960, 160, kernel_size=(1, 1), stride=(1, 1), bias=False)\n",
       "        (3): BatchNorm2d(160, eps=1e-05, momentum=0.1, affine=True, track_running_stats=True)\n",
       "      )\n",
       "    )\n",
       "    (17): InvertedResidual(\n",
       "      (conv): Sequential(\n",
       "        (0): ConvBNActivation(\n",
       "          (0): Conv2d(160, 960, kernel_size=(1, 1), stride=(1, 1), bias=False)\n",
       "          (1): BatchNorm2d(960, eps=1e-05, momentum=0.1, affine=True, track_running_stats=True)\n",
       "          (2): ReLU6(inplace=True)\n",
       "        )\n",
       "        (1): ConvBNActivation(\n",
       "          (0): Conv2d(960, 960, kernel_size=(3, 3), stride=(1, 1), padding=(1, 1), groups=960, bias=False)\n",
       "          (1): BatchNorm2d(960, eps=1e-05, momentum=0.1, affine=True, track_running_stats=True)\n",
       "          (2): ReLU6(inplace=True)\n",
       "        )\n",
       "        (2): Conv2d(960, 320, kernel_size=(1, 1), stride=(1, 1), bias=False)\n",
       "        (3): BatchNorm2d(320, eps=1e-05, momentum=0.1, affine=True, track_running_stats=True)\n",
       "      )\n",
       "    )\n",
       "    (18): ConvBNActivation(\n",
       "      (0): Conv2d(320, 1280, kernel_size=(1, 1), stride=(1, 1), bias=False)\n",
       "      (1): BatchNorm2d(1280, eps=1e-05, momentum=0.1, affine=True, track_running_stats=True)\n",
       "      (2): ReLU6(inplace=True)\n",
       "    )\n",
       "  )\n",
       "  (classifier): Sequential(\n",
       "    (0): Dropout(p=0.2, inplace=False)\n",
       "    (1): Linear(in_features=1280, out_features=2, bias=True)\n",
       "  )\n",
       ")"
      ]
     },
     "execution_count": 36,
     "metadata": {},
     "output_type": "execute_result"
    }
   ],
   "source": [
    "test_model = models.mobilenet_v2(pretrained=False)\n",
    "test_model.classifier[1] = nn.Linear(in_features=1280, out_features=2, bias=True)\n",
    "test_model = test_model.to(device)\n",
    "test_model.load_state_dict(torch.load(test_ch_path))\n",
    "test_model.eval()"
   ]
  },
  {
   "cell_type": "code",
   "execution_count": 37,
   "metadata": {},
   "outputs": [
    {
     "name": "stdout",
     "output_type": "stream",
     "text": [
      "Acc: 0.9794\n"
     ]
    }
   ],
   "source": [
    "running_corrects = 0\n",
    "for inputs, labels in dataloaders[\"test\"]:\n",
    "    inputs = inputs.to(device)\n",
    "    labels = labels.to(device)\n",
    "\n",
    "    # forward\n",
    "    # track history if only in train\n",
    "    with torch.no_grad():\n",
    "        outputs = test_model(inputs)\n",
    "        _, preds = torch.max(outputs, 1)\n",
    "\n",
    "    # statistics\n",
    "    running_corrects += torch.sum(preds == labels.data)\n",
    "epoch_acc = running_corrects.double() / dataset_sizes[\"test\"]\n",
    "\n",
    "print('Acc: {:.4f}'.format(epoch_acc))"
   ]
  },
  {
   "cell_type": "markdown",
   "metadata": {},
   "source": [
    "# Preparing a model for deployment"
   ]
  },
  {
   "cell_type": "markdown",
   "metadata": {},
   "source": [
    "### Model quantization"
   ]
  },
  {
   "cell_type": "code",
   "execution_count": 38,
   "metadata": {},
   "outputs": [],
   "source": [
    "import torch.quantization\n",
    "quantized_model = torch.quantization.quantize_dynamic(test_model.cpu(), {torch.nn.Linear}, dtype=torch.qint8)"
   ]
  },
  {
   "cell_type": "markdown",
   "metadata": {},
   "source": [
    "### Post-quantization accuracy check"
   ]
  },
  {
   "cell_type": "code",
   "execution_count": 39,
   "metadata": {},
   "outputs": [
    {
     "name": "stdout",
     "output_type": "stream",
     "text": [
      "Acc: 0.9794\n"
     ]
    }
   ],
   "source": [
    "running_corrects = 0\n",
    "for inputs, labels in dataloaders[\"test\"]:\n",
    "    inputs = inputs\n",
    "    labels = labels\n",
    "\n",
    "    # forward\n",
    "    # track history if only in train\n",
    "    with torch.no_grad():\n",
    "        outputs = quantized_model(inputs)\n",
    "        _, preds = torch.max(outputs, 1)\n",
    "\n",
    "    # statistics\n",
    "    running_corrects += torch.sum(preds == labels.data)\n",
    "epoch_acc = running_corrects.double() / dataset_sizes[\"test\"]\n",
    "\n",
    "print('Acc: {:.4f}'.format(epoch_acc))"
   ]
  },
  {
   "cell_type": "markdown",
   "metadata": {},
   "source": [
    "### Convert the quantized model to the TorchScript format"
   ]
  },
  {
   "cell_type": "code",
   "execution_count": 40,
   "metadata": {},
   "outputs": [],
   "source": [
    "torchscript_model = torch.jit.script(quantized_model)"
   ]
  },
  {
   "cell_type": "markdown",
   "metadata": {},
   "source": [
    "### Optimize the TorchScript formatted model for mobile and save it"
   ]
  },
  {
   "cell_type": "code",
   "execution_count": 41,
   "metadata": {},
   "outputs": [],
   "source": [
    "from torch.utils.mobile_optimizer import optimize_for_mobile\n",
    "torchscript_model_optimized = optimize_for_mobile(torchscript_model)\n",
    "torch.jit.save(torchscript_model_optimized, \"mobilenetv2_quantized.pt\")"
   ]
  },
  {
   "cell_type": "markdown",
   "metadata": {},
   "source": [
    "# Below are the instructions for using the model on mobile devices."
   ]
  },
  {
   "cell_type": "markdown",
   "metadata": {},
   "source": [
    "## Add the Model and PyTorch Library on iOS"
   ]
  },
  {
   "cell_type": "markdown",
   "metadata": {},
   "source": [
    "To use the mobile-ready model mobilenetv2_quantized.pt in an iOS app, either create a new Xcode project or in your existing Xcode project, then follow the steps below:\n",
    "- Open a Mac Terminal, cd to your iOS app’s project folder;\n",
    "- If your iOS app does not use Cocoapods yet, run pod init first to generate the Podfile file.\n",
    "- Edit Podfile either from Xcode or any editor, and add the following line under the target:\n",
    "\n",
    "```swift\n",
    "pod 'LibTorch', '~>1.6.1'\n",
    "```\n",
    "\n",
    "- Run pod install from the Terminal and then open your project’s xcworkspace file;\n",
    "- Save the two files TorchModule.h and TorchModule.mm from [here](https://github.com/pytorch/ios-demo-app/tree/master/HelloWorld/HelloWorld/HelloWorld/TorchBridge) and drag and drop them to your project. If your project is Swift based, a message box with the title “Would you like to configure an Objective-C bridging header?” will show up; click the “Create Bridging Header” button to create a Swift to Objective-c bridging header file, and add #import “TorchModule.h” to the header file <your_project_name>-Bridging-Header.h;\n",
    "- Drag and drop the model file mobilenetv2_quantized.pt to the project.\n",
    "\n",
    "After these steps, you can successfully build and run your Xcode project. To actually write code to use the model, refer to the PyTorch Mobile [iOS Code Walkthrough](https://pytorch.org/mobile/ios/#code-walkthrough) and two complete ready-to-run sample iOS apps [HelloWorld](https://github.com/pytorch/ios-demo-app/tree/master/HelloWorld) and [iOS Hackathon Example](https://github.com/pytorch/workshops/tree/master/PTMobileWalkthruIOS)."
   ]
  },
  {
   "cell_type": "markdown",
   "metadata": {},
   "source": [
    "## Add the Model and PyTorch Library on Android"
   ]
  },
  {
   "cell_type": "markdown",
   "metadata": {},
   "source": [
    "- In your current or a new Android Studio project, open the build.gradle file, and add the following two lines (the second one is required only if you plan to use a TorchVision model):\n",
    "\n",
    "```java\n",
    "implementation 'org.pytorch:pytorch_android:1.6.0'\n",
    "implementation 'org.pytorch:pytorch_android_torchvision:1.6.0'\n",
    "```\n",
    "\n",
    "- Drag and drop the model file mobilenetv2_quantized.pt to your project’s assets folder.\n",
    "\n",
    "That’s it! Now you can build your Android app with the PyTorch library and the model ready to use. To actually write code to use the model, refer to the PyTorch Mobile [Android Quickstart with a HelloWorld Example](https://pytorch.org/mobile/android/#quickstart-with-a-helloworld-example) and [Android Hackathon Example](https://github.com/pytorch/workshops/tree/master/PTMobileWalkthruAndroid)."
   ]
  },
  {
   "cell_type": "code",
   "execution_count": null,
   "metadata": {},
   "outputs": [],
   "source": []
  }
 ],
 "metadata": {
  "kernelspec": {
   "display_name": "Python 3",
   "language": "python",
   "name": "python3"
  },
  "language_info": {
   "codemirror_mode": {
    "name": "ipython",
    "version": 3
   },
   "file_extension": ".py",
   "mimetype": "text/x-python",
   "name": "python",
   "nbconvert_exporter": "python",
   "pygments_lexer": "ipython3",
   "version": "3.8.10"
  }
 },
 "nbformat": 4,
 "nbformat_minor": 4
}
